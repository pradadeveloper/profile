{
  "cells": [
    {
      "cell_type": "markdown",
      "metadata": {
        "id": "view-in-github",
        "colab_type": "text"
      },
      "source": [
        "<a href=\"https://colab.research.google.com/github/pradadeveloper/profile/blob/main/PYPLVL1_PYLVL1CLIST_E5_P20.ipynb\" target=\"_parent\"><img src=\"https://colab.research.google.com/assets/colab-badge.svg\" alt=\"Open In Colab\"/></a>"
      ]
    },
    {
      "cell_type": "markdown",
      "metadata": {
        "id": "iyfzJ2sPqqbI"
      },
      "source": [
        "<p><img src=\"https://upload.wikimedia.org/wikipedia/commons/thumb/1/13/SoftServe_logo_2017.svg/179px-SoftServe_logo_2017.svg.png?20220507181101\" alt=\"\" width=\"363\" height=\"63\" /></p>\n",
        "\n",
        "----\n",
        "\n",
        "### **INFORMACIÓN TECNICA**\n",
        "* **ID:** PYPLVL1_PYLVL1CLIST_E5_P20\n",
        "* **Python Versión:** 3.x\n",
        "* **Versión:** 0.0.1\n",
        "\n",
        "---\n",
        "### **INTRODUCCIÓN**\n",
        "\n",
        "En Python, una lista es una estructura de datos versátil y fundamental utilizada para almacenar una colección de elementos. Es una secuencia ordenada de elementos que pueden ser de cualquier tipo de dato, como enteros, cadenas e incluso otras listas. Las listas son mutables, lo que significa que puedes modificar sus elementos después de haber sido creadas.\n",
        "\n",
        "Las listas son increíblemente útiles para manejar colecciones de datos y desempeñan un papel significativo en la programación en Python debido a su flexibilidad y facilidad de uso.\n",
        "\n",
        "### **QUE SE APRENDERA**\n",
        "\n",
        "  - Crear una lista:\n",
        "    Para crear una lista en Python, se utilizan corchetes [] y se separan los elementos con comas. Por ejemplo:\n",
        "\n",
        "    ```python\n",
        "    mi_lista = [1, 2, 3, 4, 5]\n",
        "\n",
        "    ```\n",
        "\n",
        "  - Acceder a los elementos:\n",
        "    Puedes acceder a los elementos de una lista utilizando su índice. Python utiliza indexación basada en cero, por lo que el primer elemento está en el índice 0, el segundo elemento en el índice 1, y así sucesivamente. Para acceder a un elemento, utiliza corchetes con el índice:\n",
        "    ```python\n",
        "    primer_elemento = mi_lista[0]  # Esto será 1\n",
        "    segundo_elemento = mi_lista[1]  # Esto será 2\n",
        "\n",
        "    ```\n",
        "\n",
        "  - Modificar elementos:\n",
        "    Las listas son mutables, por lo que puedes cambiar el valor de los elementos utilizando su índice:\n",
        "\n",
        "    ```python\n",
        "    mi_lista[2] = 10  # Cambia el tercer elemento a 10\n",
        "\n",
        "    ```\n",
        "\n",
        "  - Rebanado de listas:\n",
        "    También puedes extraer una porción de una lista utilizando rebanado. El rebanado te permite obtener una sublista basada en un rango específico de índices:\n",
        "    ```python\n",
        "    sub_lista = mi_lista[1:4]  # Esto crea una nueva lista [2, 10, 4]\n",
        "\n",
        "    ```\n",
        "\n",
        "  - Métodos de listas:\n",
        "    Python proporciona varios métodos integrados para manipular listas. Algunos métodos comunes incluyen:\n",
        "    ```python\n",
        "    mi_lista.append(6)         # Agrega 6 al final de la lista\n",
        "    mi_lista.insert(2, 7)      # Inserta 7 en el índice 2\n",
        "    mi_lista.remove(3)         # Elimina la primera aparición de 3\n",
        "    mi_lista.pop()             # Elimina el último elemento y lo devuelve\n",
        "    len(mi_lista)              # Devuelve el número de elementos en la lista\n",
        "\n",
        "    ```\n",
        "\n",
        "  - Concatenación de listas:\n",
        "    Puedes combinar dos listas usando el operador `+` para crear una nueva lista:\n",
        "    ```python\n",
        "    lista1 = [1, 2, 3]\n",
        "    lista2 = [4, 5, 6]\n",
        "    lista_combinada = lista1 + lista2  # Resulta en [1, 2, 3, 4, 5, 6]\n",
        "\n",
        "    ```\n",
        "\n",
        "\n",
        "# **EJERCICIOS**"
      ]
    },
    {
      "cell_type": "markdown",
      "metadata": {
        "id": "T1TjAdw0qqbM"
      },
      "source": [
        "<p>\n",
        "    <img src=\"https://cdn.icon-icons.com/icons2/1130/PNG/512/numberzeroinacircle_80181.png\" alt=\"01\" width=\"65\" height=\"65\" />\n",
        "    <img src=\"https://cdn.icon-icons.com/icons2/1130/PNG/512/numberoneinacircle_80030.png\" alt=\"01\" width=\"65\" height=\"65\" />\n",
        "</p>\n",
        "\n",
        "\n",
        "\n",
        "* **ID:** PYLVL1CLIST-01\n",
        "* **DESCRIPCIÓN:** Operaciones con listas.\n",
        "\n",
        "    Dada un parametro `lista` que contiene una lista de N elementos, escribir dentro de la función ``function`` la lógica que permita retornar los elementos en indices impares de la primera mitad de la lista.\n",
        "\n",
        "    **Condición:** Solo puede utilizar las propiedades y funcionalidades embebidas en el tipo de dato lista.\n",
        "\n",
        "\\\n",
        "**Reglas:**\n",
        "1. No modifique la declaración de la función. El concepto detras de las funciones se verá mas adelante.\n",
        "2. Si no sigue alguna de estas reglas, el ejercicio será marcado como erroneo.\n",
        "\n",
        "\\\n",
        "**Respuesta Esperada**\n",
        "\n",
        "```python\n",
        "return lista\n",
        "```\n"
      ]
    },
    {
      "cell_type": "code",
      "execution_count": null,
      "metadata": {
        "colab": {
          "base_uri": "https://localhost:8080/"
        },
        "id": "EYORF6WYqqbN",
        "outputId": "19615274-c58b-4d09-8a97-f9a44ded6d65"
      },
      "outputs": [
        {
          "output_type": "execute_result",
          "data": {
            "text/plain": [
              "[1, 1, 1, 1, 1, 1, 1]"
            ]
          },
          "metadata": {},
          "execution_count": 24
        }
      ],
      "source": [
        "def function(lista):\n",
        "    lista = lista[:15][1::2]\n",
        "    return lista\n",
        "\n",
        "\n",
        "function([1] * 30)"
      ]
    },
    {
      "cell_type": "markdown",
      "metadata": {
        "id": "-PDXPUWAqqbO"
      },
      "source": [
        "<p>\n",
        "    <img src=\"https://cdn.icon-icons.com/icons2/1130/PNG/512/numberzeroinacircle_80181.png\" alt=\"02\" width=\"65\" height=\"65\" />\n",
        "    <img src=\"https://cdn.icon-icons.com/icons2/1130/PNG/512/numbertwoinacircle_80299.png\" alt=\"02\" width=\"65\" height=\"65\" />\n",
        "</p>\n",
        "\n",
        "* **ID:** PYLVL1CLIST-02\n",
        "* **DESCRIPCIÓN:** Operaciones con listas y concatenación multiple.\n",
        "\n",
        "    Dada una lista de N >= 50 elementos, escribir dentro de la función ``function`` la lógica para ejecutar lo siguiente:\n",
        "    1. Para el primer cuarto de la lista invertir la posicion de los elementos.\n",
        "    2. Para el segundo cuarto de la lista, identificar los valores maximo y minimo.\n",
        "    3. Para la tercer cuarto de la lista reemplazar todos los elementos por 'NN'.\n",
        "    4. Para el ultimo cuarto de la lista solo tomar los elementos en posiciones pares.\n",
        "    5. Concatenar las listas resultantes en una sola.\n",
        "\n",
        "    Retornar la lista resultante.\n",
        "\n",
        "\\\n",
        "**Reglas:**\n",
        "1. No modifique la declaración de la función. El concepto detras de las funciones se verá mas adelante.\n",
        "2. Si no sigue alguna de estas reglas, el ejercicio será marcado como erroneo.\n",
        "\n",
        "\\\n",
        "**Respuesta Esperada**\n",
        "\n",
        "```python\n",
        "return lista_concatenada\n",
        "```"
      ]
    },
    {
      "cell_type": "code",
      "execution_count": null,
      "metadata": {
        "colab": {
          "base_uri": "https://localhost:8080/"
        },
        "id": "49m_h73wqqbO",
        "outputId": "a16a6cb0-cbd3-42c9-ee15-2b128cfcc36b"
      },
      "outputs": [
        {
          "output_type": "execute_result",
          "data": {
            "text/plain": [
              "[15,\n",
              " 14,\n",
              " 13,\n",
              " 12,\n",
              " 11,\n",
              " 10,\n",
              " 9,\n",
              " 8,\n",
              " 7,\n",
              " 6,\n",
              " 5,\n",
              " 4,\n",
              " 3,\n",
              " 2,\n",
              " 1,\n",
              " 16,\n",
              " 30,\n",
              " 'NN',\n",
              " 'NN',\n",
              " 'NN',\n",
              " 'NN',\n",
              " 'NN',\n",
              " 'NN',\n",
              " 'NN',\n",
              " 'NN',\n",
              " 'NN',\n",
              " 'NN',\n",
              " 'NN',\n",
              " 'NN',\n",
              " 'NN',\n",
              " 'NN',\n",
              " 'NN',\n",
              " 46,\n",
              " 48,\n",
              " 50,\n",
              " 52,\n",
              " 54,\n",
              " 56,\n",
              " 58,\n",
              " 60]"
            ]
          },
          "metadata": {},
          "execution_count": 46
        }
      ],
      "source": [
        "\n",
        "def function(lista):\n",
        "    # Para el primer cuarto de la lista invertir la posicion de los elementos.\n",
        "    lista_rebanada1 = lista[:15:]\n",
        "    lista_concatenada1 = lista_rebanada1[::-1]\n",
        "\n",
        "    # Para el segundo cuarto de la lista, identificar los valores maximo y minimo.\n",
        "    lista_rebanada2 = lista[15:30:]\n",
        "    lista_concatenada2 = [min(lista_rebanada2),max(lista_rebanada2)]\n",
        "\n",
        "    # Para la tercer cuarto de la lista reemplazar todos los elementos por 'NN'.\n",
        "    lista_rebanada3 = lista[30:45:]\n",
        "    lista_concatenada3 = ['NN']*len(lista_rebanada3)\n",
        "\n",
        "    # Para el ultimo cuarto de la lista solo tomar los elementos en posiciones pares.\n",
        "    lista_rebanada4 = lista[45:60:]\n",
        "    lista_concatenada4 = lista_rebanada4[0::2]\n",
        "\n",
        "    # Concatenación de las listas\n",
        "    lista_concatenada = lista_concatenada1 + lista_concatenada2 + lista_concatenada3 + lista_concatenada4\n",
        "\n",
        "    return lista_concatenada\n",
        "\n",
        "\n",
        "function(list(range(1, 61, 1)))"
      ]
    },
    {
      "cell_type": "markdown",
      "metadata": {
        "id": "lfC5_xZeqqbO"
      },
      "source": [
        "<p>\n",
        "    <img src=\"https://cdn.icon-icons.com/icons2/1130/PNG/512/numberzeroinacircle_80181.png\" alt=\"03\" width=\"65\" height=\"65\" />\n",
        "    <img src=\"https://cdn.icon-icons.com/icons2/1130/PNG/512/numberthreeinacircle_80289.png\" alt=\"03\" width=\"65\" height=\"65\" />\n",
        "</p>\n",
        "\n",
        "\n",
        "\n",
        "* **ID:** PYLVL1CLIST-03\n",
        "* **DESCRIPCIÓN:**\n",
        "\n",
        "    Dado el siguiente string de ejemplo '1234567890', Escribir dentro de la función ``function`` la lógica para organizar los numeros dentro del string y retorne:<br/>\n",
        "    Ejemplo:\n",
        "    * string1 -> '0123456789'\n",
        "    * string2 -> '9876543210'\n",
        "\n",
        "\\\n",
        "**Reglas:**\n",
        "1. No modifique la declaración de la función. El concepto detras de las funciones se verá mas adelante.\n",
        "2. Si no sigue alguna de estas reglas, el ejercicio será marcado como erroneo.\n",
        "\n",
        "\\\n",
        "**Respuesta Esperada**\n",
        "```python\n",
        "    return result_1, result_2\n",
        "```"
      ]
    },
    {
      "cell_type": "code",
      "execution_count": null,
      "metadata": {
        "colab": {
          "base_uri": "https://localhost:8080/"
        },
        "id": "mzhLyShbqqbP",
        "outputId": "5cd7d158-e127-4182-d354-e56f1e7cb6b6"
      },
      "outputs": [
        {
          "output_type": "execute_result",
          "data": {
            "text/plain": [
              "('0123456789', '9876543210')"
            ]
          },
          "metadata": {},
          "execution_count": 101
        }
      ],
      "source": [
        "def function(valor):\n",
        "    lista = []\n",
        "    lista[:0] = valor\n",
        "\n",
        "    # string1 -> '0123456789'\n",
        "    lista.sort()\n",
        "    result_1 = ''.join(lista)\n",
        "\n",
        "    # string2 -> '9876543210'\n",
        "    lista = list(valor)\n",
        "    lista.sort(reverse=True)\n",
        "    result_2 = ''.join(lista)\n",
        "\n",
        "    return result_1, result_2\n",
        "\n",
        "function('1234657890')"
      ]
    },
    {
      "cell_type": "markdown",
      "metadata": {
        "id": "Z5ejHBC3qqbP"
      },
      "source": [
        "<p>\n",
        "    <img src=\"https://cdn.icon-icons.com/icons2/1130/PNG/512/numberzeroinacircle_80181.png\" alt=\"04\" width=\"65\" height=\"65\" />\n",
        "    <img src=\"https://cdn.icon-icons.com/icons2/1130/PNG/512/numberfourincircularbutton_80047.png\" alt=\"04\" width=\"65\" height=\"65\" />\n",
        "</p>\n",
        "\n",
        "* **ID:** PYLVL1CLIST-04\n",
        "* **DESCRIPCIÓN:** Tratamiento de string como listas.\n",
        "\n",
        "    Dado un  parametro ``string`` con caracteres de tamaño N y un parametro ``n`` que indica el numero de saltos dentro del string, escribir dentro de la función ``function`` la lógica para ejecutar lo siguiente:\n",
        "    1. Elimine el primer y ultimo elemento.\n",
        "    2. Saque los caracteres en saltos de ``n`` pasos no mayores a la mitad del tamaño total de la lista.\n",
        "    3. Organice de manera ascedente los caracteres restantes.\n",
        "\n",
        "\\\n",
        "**Reglas:**\n",
        "1. No modifique la declaración de la función. El concepto detras de las funciones se verá mas adelante.\n",
        "2. Si no sigue alguna de estas reglas, el ejercicio será marcado como erroneo.\n",
        "\n",
        "\\\n",
        "**Respuesta Esperada**\n",
        "```python\n",
        "return result_string\n",
        "```\n"
      ]
    },
    {
      "cell_type": "code",
      "execution_count": 7,
      "metadata": {
        "colab": {
          "base_uri": "https://localhost:8080/",
          "height": 35
        },
        "id": "eQzom5YTqqbP",
        "outputId": "b7d02728-c146-4c67-d264-c8820bc56d1b"
      },
      "outputs": [
        {
          "output_type": "execute_result",
          "data": {
            "text/plain": [
              "'23567btz'"
            ],
            "application/vnd.google.colaboratory.intrinsic+json": {
              "type": "string"
            }
          },
          "metadata": {},
          "execution_count": 7
        }
      ],
      "source": [
        "\n",
        "def function(string, n):\n",
        "\n",
        "    string_lista = list(string)\n",
        "\n",
        "    # Elimine el primer y ultimo elemento.\n",
        "    string_lista.remove('A')\n",
        "    string_lista.pop()\n",
        "\n",
        "    # Saque los caracteres en saltos de n pasos no mayores a la mitad del tamaño total de la lista.\n",
        "    pasos = min(n, len(string_lista) // 2)\n",
        "    string_lista = string_lista[::pasos]\n",
        "    string_lista.sort()\n",
        "\n",
        "    # Organice de manera ascedente los caracteres restantes.\n",
        "    result_string = ''.join(string_lista)\n",
        "\n",
        "    return result_string\n",
        "\n",
        "\n",
        "function('Abc235435786strzh', 2)"
      ]
    },
    {
      "cell_type": "markdown",
      "metadata": {
        "id": "7NqpffBLqqbP"
      },
      "source": [
        "<p>\n",
        "    <img src=\"https://cdn.icon-icons.com/icons2/1130/PNG/512/numberzeroinacircle_80181.png\" alt=\"05\" width=\"65\" height=\"65\" />\n",
        "    <img src=\"https://cdn.icon-icons.com/icons2/1130/PNG/512/numberfiveincircularbutton_80245.png\" alt=\"05\" width=\"65\" height=\"65\" />\n",
        "</p>\n",
        "\n",
        "\n",
        "* **ID:** PYLVL1CLIST-05\n",
        "* **DESCRIPCIÓN:** Operaciones con listas y strings.\n",
        "\n",
        "    Dada la siguiente lista de strings, Escribir dentro de la función ``function`` la lógica que encuentre la posición global de la primera ocurrencia dado un valor `string`.\n",
        "\n",
        "    ```python\n",
        "    lista = ['DEFG', 'ROJO', 'AZUL', 'verde', 'hfabcF', 'ABC', 'amarilloROJOVERde', 'verde limon', 'defqwrwet']\n",
        "    ```\n",
        "\n",
        "    **Condición**: todas las ocurrencias independiente de si es mayuscula o minuscula.\n",
        "\n",
        "    Retorne la posicion de la primera ocurrencia e imprima cada uno de los pasos que realizó para llegar al resultado, si lo considera necesario.\n",
        "\n",
        "\\\n",
        "**Reglas:**\n",
        "1. No modifique la declaración de la función. El concepto detras de las funciones se verá mas adelante.\n",
        "2. Si no sigue alguna de estas reglas, el ejercicio será marcado como erroneo.\n",
        "\n",
        "\\\n",
        "**Respuesta Esperada**\n",
        "```python\n",
        "return primera_ocurrencia\n",
        "```\n"
      ]
    },
    {
      "cell_type": "code",
      "execution_count": null,
      "metadata": {
        "id": "CGmcAAEHqqbQ"
      },
      "outputs": [],
      "source": [
        "lista = ['DEFG', 'ROJO', 'AZUL', 'verde', 'hfabcF', 'ABC', 'amarilloROJOVERde', 'verde limon', 'defqwrwet']\n",
        "\n",
        "\n",
        "def function(lista, string):\n",
        "       primera_ocurrencia = string =\n",
        "\n",
        "\n",
        "\n",
        "    return\n",
        "\n",
        "function(lista, 'abc')"
      ]
    }
  ],
  "metadata": {
    "kernelspec": {
      "display_name": "evaluator-WNwgce54-py3.9",
      "language": "python",
      "name": "python3"
    },
    "language_info": {
      "codemirror_mode": {
        "name": "ipython",
        "version": 3
      },
      "file_extension": ".py",
      "mimetype": "text/x-python",
      "name": "python",
      "nbconvert_exporter": "python",
      "pygments_lexer": "ipython3",
      "version": "3.9.12"
    },
    "orig_nbformat": 4,
    "colab": {
      "provenance": [],
      "include_colab_link": true
    }
  },
  "nbformat": 4,
  "nbformat_minor": 0
}